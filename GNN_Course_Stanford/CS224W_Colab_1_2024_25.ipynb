{
  "nbformat": 4,
  "nbformat_minor": 0,
  "metadata": {
    "kernelspec": {
      "display_name": "Python 3",
      "language": "python",
      "name": "python3"
    },
    "language_info": {
      "codemirror_mode": {
        "name": "ipython",
        "version": 3
      },
      "file_extension": ".py",
      "mimetype": "text/x-python",
      "name": "python",
      "nbconvert_exporter": "python",
      "pygments_lexer": "ipython3",
      "version": "3.7.3"
    },
    "colab": {
      "provenance": [],
      "machine_shape": "hm"
    }
  },
  "cells": [
    {
      "cell_type": "markdown",
      "metadata": {
        "id": "XuXWJLEm2UWS"
      },
      "source": [
        "# **CS224W - Colab 1**"
      ]
    },
    {
      "cell_type": "markdown",
      "metadata": {
        "id": "8gzsP50bF6Gb"
      },
      "source": [
        "In this Colab, we will write a full pipeline for **learning node embeddings**.\n",
        "We will go through the following 3 steps.\n",
        "\n",
        "To start, we will load a classic graph in network science, the [Karate Club Network](https://en.wikipedia.org/wiki/Zachary%27s_karate_club). We will explore multiple graph statistics for that graph.\n",
        "\n",
        "We will then work together to transform the graph structure into a PyTorch tensor, so that we can perform machine learning over the graph.\n",
        "\n",
        "Finally, we will finish the first learning algorithm on graphs: a node embedding model. For simplicity, our model here is simpler than DeepWalk / node2vec algorithms taught in the lecture. But it's still rewarding and challenging, as we will write it from scratch via PyTorch.\n",
        "\n",
        "Now let's get started! This Colab should take 1-2 hours to complete.\n",
        "\n",
        "**Note**: Make sure to **restart and run all** before submission, so that the intermediate variables / packages will carry over to the next cell"
      ]
    },
    {
      "cell_type": "markdown",
      "metadata": {
        "id": "Nwwq0nSdmsOL"
      },
      "source": [
        "# 1 Graph Basics\n",
        "To start, we will load a classic graph in network science, the [Karate Club Network](https://en.wikipedia.org/wiki/Zachary%27s_karate_club). We will explore multiple graph statistics for that graph."
      ]
    },
    {
      "cell_type": "markdown",
      "metadata": {
        "id": "FDkpByYYfSzb"
      },
      "source": [
        "## Setup\n",
        "We will heavily use NetworkX in this Colab."
      ]
    },
    {
      "cell_type": "code",
      "metadata": {
        "id": "VWPkJjPAfVNW"
      },
      "source": [
        "import networkx as nx"
      ],
      "execution_count": 1,
      "outputs": []
    },
    {
      "cell_type": "markdown",
      "metadata": {
        "id": "VqUnYT5qUZYh"
      },
      "source": [
        "## Zachary's karate club network\n",
        "\n",
        "The [Karate Club Network](https://en.wikipedia.org/wiki/Zachary%27s_karate_club) is a graph which describes a social network of 34 members of a karate club and documents links between members who interacted outside the club."
      ]
    },
    {
      "cell_type": "code",
      "metadata": {
        "id": "VIETqEfrfy5Y",
        "outputId": "ad450ab9-6e08-48d2-81be-e75ab3422161",
        "colab": {
          "base_uri": "https://localhost:8080/",
          "height": 186
        }
      },
      "source": [
        "G = nx.karate_club_graph()\n",
        "\n",
        "# G is an undirected graph\n",
        "type(G)"
      ],
      "execution_count": 2,
      "outputs": [
        {
          "output_type": "execute_result",
          "data": {
            "text/plain": [
              "networkx.classes.graph.Graph"
            ],
            "text/html": [
              "<div style=\"max-width:800px; border: 1px solid var(--colab-border-color);\"><style>\n",
              "      pre.function-repr-contents {\n",
              "        overflow-x: auto;\n",
              "        padding: 8px 12px;\n",
              "        max-height: 500px;\n",
              "      }\n",
              "\n",
              "      pre.function-repr-contents.function-repr-contents-collapsed {\n",
              "        cursor: pointer;\n",
              "        max-height: 100px;\n",
              "      }\n",
              "    </style>\n",
              "    <pre style=\"white-space: initial; background:\n",
              "         var(--colab-secondary-surface-color); padding: 8px 12px;\n",
              "         border-bottom: 1px solid var(--colab-border-color);\"><b>networkx.classes.graph.Graph</b><br/>def __init__(incoming_graph_data=None, **attr)</pre><pre class=\"function-repr-contents function-repr-contents-collapsed\" style=\"\"><a class=\"filepath\" style=\"display:none\" href=\"#\">/usr/local/lib/python3.10/dist-packages/networkx/classes/graph.py</a>Base class for undirected graphs.\n",
              "\n",
              "A Graph stores nodes and edges with optional data, or attributes.\n",
              "\n",
              "Graphs hold undirected edges.  Self loops are allowed but multiple\n",
              "(parallel) edges are not.\n",
              "\n",
              "Nodes can be arbitrary (hashable) Python objects with optional\n",
              "key/value attributes, except that `None` is not allowed as a node.\n",
              "\n",
              "Edges are represented as links between nodes with optional\n",
              "key/value attributes.\n",
              "\n",
              "Parameters\n",
              "----------\n",
              "incoming_graph_data : input graph (optional, default: None)\n",
              "    Data to initialize graph. If None (default) an empty\n",
              "    graph is created.  The data can be any format that is supported\n",
              "    by the to_networkx_graph() function, currently including edge list,\n",
              "    dict of dicts, dict of lists, NetworkX graph, 2D NumPy array, SciPy\n",
              "    sparse matrix, or PyGraphviz graph.\n",
              "\n",
              "attr : keyword arguments, optional (default= no attributes)\n",
              "    Attributes to add to graph as key=value pairs.\n",
              "\n",
              "See Also\n",
              "--------\n",
              "DiGraph\n",
              "MultiGraph\n",
              "MultiDiGraph\n",
              "\n",
              "Examples\n",
              "--------\n",
              "Create an empty graph structure (a &quot;null graph&quot;) with no nodes and\n",
              "no edges.\n",
              "\n",
              "&gt;&gt;&gt; G = nx.Graph()\n",
              "\n",
              "G can be grown in several ways.\n",
              "\n",
              "**Nodes:**\n",
              "\n",
              "Add one node at a time:\n",
              "\n",
              "&gt;&gt;&gt; G.add_node(1)\n",
              "\n",
              "Add the nodes from any container (a list, dict, set or\n",
              "even the lines from a file or the nodes from another graph).\n",
              "\n",
              "&gt;&gt;&gt; G.add_nodes_from([2, 3])\n",
              "&gt;&gt;&gt; G.add_nodes_from(range(100, 110))\n",
              "&gt;&gt;&gt; H = nx.path_graph(10)\n",
              "&gt;&gt;&gt; G.add_nodes_from(H)\n",
              "\n",
              "In addition to strings and integers any hashable Python object\n",
              "(except None) can represent a node, e.g. a customized node object,\n",
              "or even another Graph.\n",
              "\n",
              "&gt;&gt;&gt; G.add_node(H)\n",
              "\n",
              "**Edges:**\n",
              "\n",
              "G can also be grown by adding edges.\n",
              "\n",
              "Add one edge,\n",
              "\n",
              "&gt;&gt;&gt; G.add_edge(1, 2)\n",
              "\n",
              "a list of edges,\n",
              "\n",
              "&gt;&gt;&gt; G.add_edges_from([(1, 2), (1, 3)])\n",
              "\n",
              "or a collection of edges,\n",
              "\n",
              "&gt;&gt;&gt; G.add_edges_from(H.edges)\n",
              "\n",
              "If some edges connect nodes not yet in the graph, the nodes\n",
              "are added automatically.  There are no errors when adding\n",
              "nodes or edges that already exist.\n",
              "\n",
              "**Attributes:**\n",
              "\n",
              "Each graph, node, and edge can hold key/value attribute pairs\n",
              "in an associated attribute dictionary (the keys must be hashable).\n",
              "By default these are empty, but can be added or changed using\n",
              "add_edge, add_node or direct manipulation of the attribute\n",
              "dictionaries named graph, node and edge respectively.\n",
              "\n",
              "&gt;&gt;&gt; G = nx.Graph(day=&quot;Friday&quot;)\n",
              "&gt;&gt;&gt; G.graph\n",
              "{&#x27;day&#x27;: &#x27;Friday&#x27;}\n",
              "\n",
              "Add node attributes using add_node(), add_nodes_from() or G.nodes\n",
              "\n",
              "&gt;&gt;&gt; G.add_node(1, time=&quot;5pm&quot;)\n",
              "&gt;&gt;&gt; G.add_nodes_from([3], time=&quot;2pm&quot;)\n",
              "&gt;&gt;&gt; G.nodes[1]\n",
              "{&#x27;time&#x27;: &#x27;5pm&#x27;}\n",
              "&gt;&gt;&gt; G.nodes[1][&quot;room&quot;] = 714  # node must exist already to use G.nodes\n",
              "&gt;&gt;&gt; del G.nodes[1][&quot;room&quot;]  # remove attribute\n",
              "&gt;&gt;&gt; list(G.nodes(data=True))\n",
              "[(1, {&#x27;time&#x27;: &#x27;5pm&#x27;}), (3, {&#x27;time&#x27;: &#x27;2pm&#x27;})]\n",
              "\n",
              "Add edge attributes using add_edge(), add_edges_from(), subscript\n",
              "notation, or G.edges.\n",
              "\n",
              "&gt;&gt;&gt; G.add_edge(1, 2, weight=4.7)\n",
              "&gt;&gt;&gt; G.add_edges_from([(3, 4), (4, 5)], color=&quot;red&quot;)\n",
              "&gt;&gt;&gt; G.add_edges_from([(1, 2, {&quot;color&quot;: &quot;blue&quot;}), (2, 3, {&quot;weight&quot;: 8})])\n",
              "&gt;&gt;&gt; G[1][2][&quot;weight&quot;] = 4.7\n",
              "&gt;&gt;&gt; G.edges[1, 2][&quot;weight&quot;] = 4\n",
              "\n",
              "Warning: we protect the graph data structure by making `G.edges` a\n",
              "read-only dict-like structure. However, you can assign to attributes\n",
              "in e.g. `G.edges[1, 2]`. Thus, use 2 sets of brackets to add/change\n",
              "data attributes: `G.edges[1, 2][&#x27;weight&#x27;] = 4`\n",
              "(For multigraphs: `MG.edges[u, v, key][name] = value`).\n",
              "\n",
              "**Shortcuts:**\n",
              "\n",
              "Many common graph features allow python syntax to speed reporting.\n",
              "\n",
              "&gt;&gt;&gt; 1 in G  # check if node in graph\n",
              "True\n",
              "&gt;&gt;&gt; [n for n in G if n &lt; 3]  # iterate through nodes\n",
              "[1, 2]\n",
              "&gt;&gt;&gt; len(G)  # number of nodes in graph\n",
              "5\n",
              "\n",
              "Often the best way to traverse all edges of a graph is via the neighbors.\n",
              "The neighbors are reported as an adjacency-dict `G.adj` or `G.adjacency()`\n",
              "\n",
              "&gt;&gt;&gt; for n, nbrsdict in G.adjacency():\n",
              "...     for nbr, eattr in nbrsdict.items():\n",
              "...         if &quot;weight&quot; in eattr:\n",
              "...             # Do something useful with the edges\n",
              "...             pass\n",
              "\n",
              "But the edges() method is often more convenient:\n",
              "\n",
              "&gt;&gt;&gt; for u, v, weight in G.edges.data(&quot;weight&quot;):\n",
              "...     if weight is not None:\n",
              "...         # Do something useful with the edges\n",
              "...         pass\n",
              "\n",
              "**Reporting:**\n",
              "\n",
              "Simple graph information is obtained using object-attributes and methods.\n",
              "Reporting typically provides views instead of containers to reduce memory\n",
              "usage. The views update as the graph is updated similarly to dict-views.\n",
              "The objects `nodes`, `edges` and `adj` provide access to data attributes\n",
              "via lookup (e.g. `nodes[n]`, `edges[u, v]`, `adj[u][v]`) and iteration\n",
              "(e.g. `nodes.items()`, `nodes.data(&#x27;color&#x27;)`,\n",
              "`nodes.data(&#x27;color&#x27;, default=&#x27;blue&#x27;)` and similarly for `edges`)\n",
              "Views exist for `nodes`, `edges`, `neighbors()`/`adj` and `degree`.\n",
              "\n",
              "For details on these and other miscellaneous methods, see below.\n",
              "\n",
              "**Subclasses (Advanced):**\n",
              "\n",
              "The Graph class uses a dict-of-dict-of-dict data structure.\n",
              "The outer dict (node_dict) holds adjacency information keyed by node.\n",
              "The next dict (adjlist_dict) represents the adjacency information and holds\n",
              "edge data keyed by neighbor.  The inner dict (edge_attr_dict) represents\n",
              "the edge data and holds edge attribute values keyed by attribute names.\n",
              "\n",
              "Each of these three dicts can be replaced in a subclass by a user defined\n",
              "dict-like object. In general, the dict-like features should be\n",
              "maintained but extra features can be added. To replace one of the\n",
              "dicts create a new graph class by changing the class(!) variable\n",
              "holding the factory for that dict-like structure.\n",
              "\n",
              "node_dict_factory : function, (default: dict)\n",
              "    Factory function to be used to create the dict containing node\n",
              "    attributes, keyed by node id.\n",
              "    It should require no arguments and return a dict-like object\n",
              "\n",
              "node_attr_dict_factory: function, (default: dict)\n",
              "    Factory function to be used to create the node attribute\n",
              "    dict which holds attribute values keyed by attribute name.\n",
              "    It should require no arguments and return a dict-like object\n",
              "\n",
              "adjlist_outer_dict_factory : function, (default: dict)\n",
              "    Factory function to be used to create the outer-most dict\n",
              "    in the data structure that holds adjacency info keyed by node.\n",
              "    It should require no arguments and return a dict-like object.\n",
              "\n",
              "adjlist_inner_dict_factory : function, (default: dict)\n",
              "    Factory function to be used to create the adjacency list\n",
              "    dict which holds edge data keyed by neighbor.\n",
              "    It should require no arguments and return a dict-like object\n",
              "\n",
              "edge_attr_dict_factory : function, (default: dict)\n",
              "    Factory function to be used to create the edge attribute\n",
              "    dict which holds attribute values keyed by attribute name.\n",
              "    It should require no arguments and return a dict-like object.\n",
              "\n",
              "graph_attr_dict_factory : function, (default: dict)\n",
              "    Factory function to be used to create the graph attribute\n",
              "    dict which holds attribute values keyed by attribute name.\n",
              "    It should require no arguments and return a dict-like object.\n",
              "\n",
              "Typically, if your extension doesn&#x27;t impact the data structure all\n",
              "methods will inherit without issue except: `to_directed/to_undirected`.\n",
              "By default these methods create a DiGraph/Graph class and you probably\n",
              "want them to create your extension of a DiGraph/Graph. To facilitate\n",
              "this we define two class variables that you can set in your subclass.\n",
              "\n",
              "to_directed_class : callable, (default: DiGraph or MultiDiGraph)\n",
              "    Class to create a new graph structure in the `to_directed` method.\n",
              "    If `None`, a NetworkX class (DiGraph or MultiDiGraph) is used.\n",
              "\n",
              "to_undirected_class : callable, (default: Graph or MultiGraph)\n",
              "    Class to create a new graph structure in the `to_undirected` method.\n",
              "    If `None`, a NetworkX class (Graph or MultiGraph) is used.\n",
              "\n",
              "**Subclassing Example**\n",
              "\n",
              "Create a low memory graph class that effectively disallows edge\n",
              "attributes by using a single attribute dict for all edges.\n",
              "This reduces the memory used, but you lose edge attributes.\n",
              "\n",
              "&gt;&gt;&gt; class ThinGraph(nx.Graph):\n",
              "...     all_edge_dict = {&quot;weight&quot;: 1}\n",
              "...\n",
              "...     def single_edge_dict(self):\n",
              "...         return self.all_edge_dict\n",
              "...\n",
              "...     edge_attr_dict_factory = single_edge_dict\n",
              "&gt;&gt;&gt; G = ThinGraph()\n",
              "&gt;&gt;&gt; G.add_edge(2, 1)\n",
              "&gt;&gt;&gt; G[2][1]\n",
              "{&#x27;weight&#x27;: 1}\n",
              "&gt;&gt;&gt; G.add_edge(2, 2)\n",
              "&gt;&gt;&gt; G[2][1] is G[2][2]\n",
              "True</pre>\n",
              "      <script>\n",
              "      if (google.colab.kernel.accessAllowed && google.colab.files && google.colab.files.view) {\n",
              "        for (const element of document.querySelectorAll('.filepath')) {\n",
              "          element.style.display = 'block'\n",
              "          element.onclick = (event) => {\n",
              "            event.preventDefault();\n",
              "            event.stopPropagation();\n",
              "            google.colab.files.view(element.textContent, 71);\n",
              "          };\n",
              "        }\n",
              "      }\n",
              "      for (const element of document.querySelectorAll('.function-repr-contents')) {\n",
              "        element.onclick = (event) => {\n",
              "          event.preventDefault();\n",
              "          event.stopPropagation();\n",
              "          element.classList.toggle('function-repr-contents-collapsed');\n",
              "        };\n",
              "      }\n",
              "      </script>\n",
              "      </div>"
            ]
          },
          "metadata": {},
          "execution_count": 2
        }
      ]
    },
    {
      "cell_type": "code",
      "metadata": {
        "id": "hDvf3nm-ors4",
        "outputId": "5b928992-5b9a-4f39-d429-dcb9b1369688",
        "colab": {
          "base_uri": "https://localhost:8080/",
          "height": 516
        }
      },
      "source": [
        "# Visualize the graph\n",
        "nx.draw(G, with_labels = True)"
      ],
      "execution_count": 4,
      "outputs": [
        {
          "output_type": "display_data",
          "data": {
            "text/plain": [
              "<Figure size 640x480 with 1 Axes>"
            ],
            "image/png": "[encoded data removed]"
          },
          "metadata": {}
        }
      ]
    },
    {
      "cell_type": "markdown",
      "metadata": {
        "id": "FX25Y1CrYmgN"
      },
      "source": [
        "## Question 1: What is the average degree of the karate club network? (5 Points)"
      ]
    },
    {
      "cell_type": "code",
      "metadata": {
        "id": "AUhES1VYo3tB",
        "outputId": "5af4afa9-453e-482b-8789-e4ddb2de22cc",
        "colab": {
          "base_uri": "https://localhost:8080/"
        }
      },
      "source": [
        "def average_degree(num_edges, num_nodes):\n",
        "  # TODO: Implement this function that takes number of edges\n",
        "  # and number of nodes, and returns the average node degree of\n",
        "  # the graph. Round the result to nearest integer (for example\n",
        "  # 3.3 will be rounded to 3 and 3.7 will be rounded to 4)\n",
        "\n",
        "  avg_degree = 0\n",
        "\n",
        "  ############# Your code here ############\n",
        "  avg_degree = round(2*num_edges/num_nodes)\n",
        "  #########################################\n",
        "\n",
        "  return avg_degree\n",
        "\n",
        "num_edges = G.number_of_edges()\n",
        "num_nodes = G.number_of_nodes()\n",
        "avg_degree = average_degree(num_edges, num_nodes)\n",
        "print(\"Average degree of karate club network is {}\".format(avg_degree))"
      ],
      "execution_count": 18,
      "outputs": [
        {
          "output_type": "stream",
          "name": "stdout",
          "text": [
            "Average degree of karate club network is 5\n"
          ]
        }
      ]
    },
    {
      "cell_type": "markdown",
      "metadata": {
        "id": "Fk02fD4vYmZI"
      },
      "source": [
        "## Question 2: What is the average clustering coefficient of the karate club network? (5 Points)"
      ]
    },
    {
      "cell_type": "code",
      "metadata": {
        "id": "k15XKEto1aYJ",
        "outputId": "3dce0a4d-f0cc-4f64-d2d9-a6e22a1916f0",
        "colab": {
          "base_uri": "https://localhost:8080/"
        }
      },
      "source": [
        "def average_clustering_coefficient(G):\n",
        "  # TODO: Implement this function that takes a nx.Graph\n",
        "  # and returns the average clustering coefficient. Round\n",
        "  # the result to 2 decimal places (for example 3.333 will\n",
        "  # be rounded to 3.33 and 3.7571 will be rounded to 3.76)\n",
        "\n",
        "  avg_cluster_coef = 0\n",
        "\n",
        "  ############# Your code here ############\n",
        "  ## Note:\n",
        "  ## 1: Please use the appropriate NetworkX clustering function\n",
        "  clustering_coef = nx.clustering(G)\n",
        "  avg_cluster_coef = sum(clustering_coef.values())/len(clustering_coef)\n",
        "  #########################################\n",
        "\n",
        "  return avg_cluster_coef\n",
        "\n",
        "avg_cluster_coef = average_clustering_coefficient(G)\n",
        "print(\"Average clustering coefficient of karate club network is {}\".format(avg_cluster_coef))"
      ],
      "execution_count": 19,
      "outputs": [
        {
          "output_type": "stream",
          "name": "stdout",
          "text": [
            "Average clustering coefficient of karate club network is 0.5706384782076823\n"
          ]
        }
      ]
    },
    {
      "cell_type": "markdown",
      "metadata": {
        "id": "zghQ-AhXYmP4"
      },
      "source": [
        "## Question 3: What is the PageRank value for node 0 (node with id 0) after one PageRank iteration? (5 Points)\n",
        "\n",
        "Page Rank measures importance of nodes in a graph using the link structure of the web. A “vote” from an important page is worth more. Specifically, if  a page $i$ with importance $r_i$ has $d_i$ out-links, then each link gets $\\frac{r_i}{d_i}$ votes. Thus, the importance of a Page $j$, represented as $r_j$ is the sum of the votes on its in links.\n",
        "$$r_j = \\sum_{i \\rightarrow j} \\frac{r_i}{d_i}$$, where $d_i$ is the out degree of node $i$.\n",
        "\n",
        "The PageRank algorithm (used by Google) outputs a probability distribution which represent the likelihood of a random surfer clicking on links will arrive at any particular page. At each time step, the random surfer has two options\n",
        "- With prob. $\\beta$, follow a link at random\n",
        "- With prob. $1- \\beta$, jump to a random page\n",
        "\n",
        "Thus, the importance of a particular page is calculated with the following PageRank equation:\n",
        " $$r_j = \\sum_{i \\rightarrow j} \\beta \\frac{r_i}{d_i} + (1 - \\beta) \\frac{1}{N}$$\n",
        "\n",
        "Please complete the code block by implementing the above PageRank equation for node 0.\n",
        "\n",
        "Note - You can refer to more information from the slides here - http://snap.stanford.edu/class/cs224w-2020/slides/04-pagerank.pdf\n",
        "\n",
        "\n"
      ]
    },
    {
      "cell_type": "code",
      "metadata": {
        "id": "BOGdWjNc6O7x",
        "outputId": "21f47c28-d8fe-46c6-c9fe-aa6603e082f9",
        "colab": {
          "base_uri": "https://localhost:8080/"
        }
      },
      "source": [
        "def one_iter_pagerank(G, beta, r0, node_id):\n",
        "  # TODO: Implement this function that takes a nx.Graph, beta, r0 and node id.\n",
        "  # The return value r1 is one interation PageRank value for the input node.\n",
        "  # Please round r1 to 2 decimal places.\n",
        "\n",
        "  r1 = 0\n",
        "\n",
        "  ############# Your code here ############\n",
        "  ## Note:\n",
        "  ## 1: You should not use nx.pagerank\n",
        "  num_nodes = G.number_of_nodes()\n",
        "  teleport = (1-beta)/num_nodes\n",
        "  rank_sum = 0\n",
        "  for neigbor in G.neighbors(node):\n",
        "    rank_sum += r0/G.degree[neigbor]\n",
        "  #########################################\n",
        "  r1 = teleport + beta*rank_sum\n",
        "  return r1\n",
        "\n",
        "beta = 0.8\n",
        "r0 = 1 / G.number_of_nodes()\n",
        "node = 0\n",
        "r1 = one_iter_pagerank(G, beta, r0, node)\n",
        "print(\"The PageRank value for node 0 after one iteration is {}\".format(r1))"
      ],
      "execution_count": 36,
      "outputs": [
        {
          "output_type": "stream",
          "name": "stdout",
          "text": [
            "The PageRank value for node 0 after one iteration is 0.1281045751633987\n"
          ]
        }
      ]
    },
    {
      "cell_type": "markdown",
      "metadata": {
        "id": "icTcOULeYmIu"
      },
      "source": [
        "## Question 4: What is the (raw) closeness centrality for the karate club network node 5? (5 Points)\n",
        "\n",
        "The equation for closeness centrality is $c(v) = \\frac{1}{\\sum_{u \\neq v}\\text{shortest path length between } u \\text{ and } v}$"
      ]
    },
    {
      "cell_type": "code",
      "metadata": {
        "id": "XbCsq_tl-3ok",
        "outputId": "be808581-9f81-437b-fd20-6bf32071073d",
        "colab": {
          "base_uri": "https://localhost:8080/"
        }
      },
      "source": [
        "def closeness_centrality(G, node=5):\n",
        "  # TODO: Implement the function that calculates closeness centrality\n",
        "  # for a node in karate club network. G is the input karate club\n",
        "  # network and node is the node id in the graph. Please round the\n",
        "  # closeness centrality result to 2 decimal places.\n",
        "\n",
        "  closeness = 0\n",
        "\n",
        "  ## Note:\n",
        "  ## 1: You can use networkx closeness centrality function.\n",
        "  ## 2: Notice that networkx closeness centrality returns the normalized\n",
        "  ## closeness directly, which is different from the raw (unnormalized)\n",
        "  ## one that we learned in the lecture.\n",
        "\n",
        "  ############# Your code here ############\n",
        "  closeness = nx.closeness_centrality(G,node)\n",
        "  #########################################\n",
        "\n",
        "  return closeness\n",
        "\n",
        "node = 5\n",
        "closeness = closeness_centrality(G, node=node)\n",
        "print(\"The node 5 has closeness centrality {}\".format(closeness))"
      ],
      "execution_count": 37,
      "outputs": [
        {
          "output_type": "stream",
          "name": "stdout",
          "text": [
            "The node 5 has closeness centrality 0.38372093023255816\n"
          ]
        }
      ]
    },
    {
      "cell_type": "markdown",
      "metadata": {
        "id": "-MxvowibYl4x"
      },
      "source": [
        "# 2 Graph to Tensor\n",
        "We will then work together to transform the graph $G$ into a PyTorch tensor, so that we can perform machine learning over the graph."
      ]
    },
    {
      "cell_type": "markdown",
      "metadata": {
        "id": "eDA8PosrA-9V"
      },
      "source": [
        "## Setup\n",
        "Check if PyTorch is properly installed"
      ]
    },
    {
      "cell_type": "code",
      "metadata": {
        "id": "ntuPVat_BAf1",
        "outputId": "3bc47db4-65a0-405e-fd9d-183c0050cd1e",
        "colab": {
          "base_uri": "https://localhost:8080/"
        }
      },
      "source": [
        "import torch\n",
        "print(torch.__version__)"
      ],
      "execution_count": 38,
      "outputs": [
        {
          "output_type": "stream",
          "name": "stdout",
          "text": [
            "2.5.1+cu121\n"
          ]
        }
      ]
    },
    {
      "cell_type": "markdown",
      "metadata": {
        "id": "fko_2wSKYlun"
      },
      "source": [
        "## PyTorch tensor basics\n",
        "\n",
        "We can generate PyTorch tensor with all zeros, ones or random values."
      ]
    },
    {
      "cell_type": "code",
      "metadata": {
        "id": "W2ySw3m-A9qF",
        "outputId": "7079db73-816d-4a4a-c8d5-f3cc6ef67ed1",
        "colab": {
          "base_uri": "https://localhost:8080/"
        }
      },
      "source": [
        "# Generate 3 x 4 tensor with all ones\n",
        "ones = torch.ones(3, 4)\n",
        "print(ones)\n",
        "\n",
        "# Generate 3 x 4 tensor with all zeros\n",
        "zeros = torch.zeros(3, 4)\n",
        "print(zeros)\n",
        "\n",
        "# Generate 3 x 4 tensor with random values on the interval [0, 1)\n",
        "random_tensor = torch.rand(3, 4)\n",
        "print(random_tensor)\n",
        "\n",
        "# Get the shape of the tensor\n",
        "print(ones.shape)"
      ],
      "execution_count": 39,
      "outputs": [
        {
          "output_type": "stream",
          "name": "stdout",
          "text": [
            "tensor([[1., 1., 1., 1.],\n",
            "        [1., 1., 1., 1.],\n",
            "        [1., 1., 1., 1.]])\n",
            "tensor([[0., 0., 0., 0.],\n",
            "        [0., 0., 0., 0.],\n",
            "        [0., 0., 0., 0.]])\n",
            "tensor([[0.5634, 0.6010, 0.5750, 0.7187],\n",
            "        [0.4272, 0.6561, 0.9592, 0.9562],\n",
            "        [0.3518, 0.0829, 0.3563, 0.1328]])\n",
            "torch.Size([3, 4])\n"
          ]
        }
      ]
    },
    {
      "cell_type": "markdown",
      "metadata": {
        "id": "x8mp66eHBxWC"
      },
      "source": [
        "PyTorch tensor contains elements for a single data type, the `dtype`."
      ]
    },
    {
      "cell_type": "code",
      "metadata": {
        "id": "rQiOvKJJBwq4",
        "outputId": "554f653c-543d-46ca-b499-68d184babda8",
        "colab": {
          "base_uri": "https://localhost:8080/"
        }
      },
      "source": [
        "# Create a 3 x 4 tensor with all 32-bit floating point zeros\n",
        "zeros = torch.zeros(3, 4, dtype=torch.float32)\n",
        "print(zeros.dtype)\n",
        "\n",
        "# Change the tensor dtype to 64-bit integer\n",
        "zeros = zeros.type(torch.long)\n",
        "print(zeros.dtype)"
      ],
      "execution_count": 40,
      "outputs": [
        {
          "output_type": "stream",
          "name": "stdout",
          "text": [
            "torch.float32\n",
            "torch.int64\n"
          ]
        }
      ]
    },
    {
      "cell_type": "markdown",
      "metadata": {
        "id": "I9EfegIRDkk2"
      },
      "source": [
        "## Question 5: Get the edge list of the karate club network and transform it into `torch.LongTensor`. What is the `torch.sum` value of `pos_edge_index` tensor? (10 Points)"
      ]
    },
    {
      "cell_type": "code",
      "metadata": {
        "id": "kEtVxMFID3ZT",
        "outputId": "28ed3ad3-5806-4387-fda2-3261085d5ea3",
        "colab": {
          "base_uri": "https://localhost:8080/"
        }
      },
      "source": [
        "def graph_to_edge_list(G):\n",
        "  # TODO: Implement the function that returns the edge list of\n",
        "  # an nx.Graph. The returned edge_list should be a list of tuples\n",
        "  # where each tuple is a tuple representing an edge connected\n",
        "  # by two nodes.\n",
        "\n",
        "  edge_list = []\n",
        "\n",
        "  ############# Your code here ############\n",
        "  edge_list = list(G.edges)\n",
        "  #########################################\n",
        "\n",
        "  return edge_list\n",
        "\n",
        "def edge_list_to_tensor(edge_list):\n",
        "  # TODO: Implement the function that transforms the edge_list to\n",
        "  # tensor. The input edge_list is a list of tuples and the resulting\n",
        "  # tensor should have the shape [2, len(edge_list)].\n",
        "\n",
        "  edge_index = torch.tensor([])\n",
        "\n",
        "  ############# Your code here ############\n",
        "  edge_index = torch.tensor(edge_list).T\n",
        "  #########################################\n",
        "\n",
        "  return edge_index\n",
        "\n",
        "pos_edge_list = graph_to_edge_list(G)\n",
        "pos_edge_index = edge_list_to_tensor(pos_edge_list)\n",
        "print(\"The pos_edge_index tensor has shape {}\".format(pos_edge_index.shape))\n",
        "print(\"The pos_edge_index tensor has sum value {}\".format(torch.sum(pos_edge_index)))"
      ],
      "execution_count": 46,
      "outputs": [
        {
          "output_type": "stream",
          "name": "stdout",
          "text": [
            "The pos_edge_index tensor has shape torch.Size([2, 78])\n",
            "The pos_edge_index tensor has sum value 2535\n"
          ]
        }
      ]
    },
    {
      "cell_type": "markdown",
      "metadata": {
        "id": "UBL-ZmdHWqIu"
      },
      "source": [
        "## Question 6: Please implement following function that samples negative edges. Then answer which edges (edge_1 to edge_5) are the negative edges in the karate club network? (10 Points)\n",
        "\n",
        "\"Negative\" edges refer to the edges/links that do not exist in the graph. The term \"negative\" is borrowed from \"negative sampling\" in link prediction. It has nothing to do with the edge weights.\n",
        "\n",
        "For example, given an edge (src, dst), you should check that neither (src, dst) nor (dst, src) are edges in the Graph. If these hold true, then it is a negative edge."
      ]
    },
    {
      "cell_type": "code",
      "metadata": {
        "id": "9N8VT1f8-IJ8",
        "outputId": "654d16e8-ce25-497d-b543-baffb167215d",
        "colab": {
          "base_uri": "https://localhost:8080/"
        }
      },
      "source": [
        "import random\n",
        "\n",
        "def sample_negative_edges(G, num_neg_samples):\n",
        "  # TODO: Implement the function that returns a list of negative edges.\n",
        "  # The number of sampled negative edges is num_neg_samples. You do not\n",
        "  # need to consider the corner case when the number of possible negative edges\n",
        "  # is less than num_neg_samples. It should be ok as long as your implementation\n",
        "  # works on the karate club network. In this implementation, self loops should\n",
        "  # not be considered as either a positive or negative edge. Also, notice that\n",
        "  # the karate club network is an undirected graph, if (0, 1) is a positive\n",
        "  # edge, do you think (1, 0) can be a negative one?\n",
        "\n",
        "  neg_edge_list = []\n",
        "\n",
        "  ############# Your code here ############\n",
        "  # Get all nodes in the graph\n",
        "  nodes = list(G.nodes)\n",
        "  num_nodes = len(nodes)\n",
        "\n",
        "  # Create a set of positive edges (undirected, so both (u, v) and (v, u) are considered)\n",
        "  positive_edges = set(G.edges)\n",
        "  reverse_edges = {(v, u) for u, v in positive_edges}  # Create reverse edges\n",
        "  positive_edges.update(reverse_edges)  # Update the positive_edges with the reverse edges\n",
        "\n",
        "  # Prepare a list for sampled negative edges\n",
        "  negative_edges = set()\n",
        "  while len(negative_edges) < num_neg_samples:\n",
        "    # randomly choose two distinct nodes\n",
        "    u,v = random.sample(nodes,2)\n",
        "    # ensor (U,V) and (V,U) are not in positive edges and not already sampled\n",
        "    if (u,v) not in positive_edges and (v,u) not in positive_edges:\n",
        "      negative_edges.add((u,v))\n",
        "  #########################################\n",
        "\n",
        "  return list(negative_edges)\n",
        "\n",
        "# Sample 78 negative edges\n",
        "neg_edge_list = sample_negative_edges(G, len(pos_edge_list))\n",
        "\n",
        "# Transform the negative edge list to tensor\n",
        "neg_edge_index = edge_list_to_tensor(neg_edge_list)\n",
        "print(\"The neg_edge_index tensor has shape {}\".format(neg_edge_index.shape))\n",
        "\n",
        "# Which of following edges can be negative ones?\n",
        "edge_1 = (7, 1)\n",
        "edge_2 = (1, 33)\n",
        "edge_3 = (33, 22)\n",
        "edge_4 = (0, 4)\n",
        "edge_5 = (4, 2)\n",
        "\n",
        "def can_be_negative(G, edge):\n",
        "  # TODO: Implement the function that tests if an edge is a negative\n",
        "  # edge in graph G.\n",
        "\n",
        "  is_negative = False\n",
        "\n",
        "  ############# Your code here ############\n",
        "  pos_edge_list = graph_to_edge_list(G)\n",
        "  neg_edge_list = sample_negative_edges(G, len(pos_edge_list))\n",
        "  if edge in neg_edge_list:\n",
        "    is_negative = True\n",
        "  #########################################\n",
        "\n",
        "  return is_negative\n",
        "\n",
        "print(f\"Edge 1 can be a negative edge: {can_be_negative(G, edge_1)}\")\n",
        "print(f\"Edge 2 can be a negative edge: {can_be_negative(G, edge_2)}\")\n",
        "print(f\"Edge 3 can be a negative edge: {can_be_negative(G, edge_3)}\")\n",
        "print(f\"Edge 4 can be a negative edge: {can_be_negative(G, edge_4)}\")\n",
        "print(f\"Edge 5 can be a negative edge: {can_be_negative(G, edge_5)}\")"
      ],
      "execution_count": 53,
      "outputs": [
        {
          "output_type": "stream",
          "name": "stdout",
          "text": [
            "The neg_edge_index tensor has shape torch.Size([2, 78])\n",
            "Edge 1 can be a negative edge: False\n",
            "Edge 2 can be a negative edge: False\n",
            "Edge 3 can be a negative edge: False\n",
            "Edge 4 can be a negative edge: False\n",
            "Edge 5 can be a negative edge: False\n"
          ]
        }
      ]
    },
    {
      "cell_type": "markdown",
      "metadata": {
        "id": "Wk9Q-a-9qGsw"
      },
      "source": [
        "# 3 Node Emebedding Learning\n",
        "\n",
        "Finally, we will finish the first learning algorithm on graphs: a node embedding model.\n"
      ]
    },
    {
      "cell_type": "markdown",
      "metadata": {
        "id": "NDBxRQcZ_dUH"
      },
      "source": [
        "## Setup"
      ]
    },
    {
      "cell_type": "code",
      "metadata": {
        "id": "Lnqn9H6s_ehX",
        "outputId": "5893f0f9-1a41-48c8-d9e9-300ab2cb95f4",
        "colab": {
          "base_uri": "https://localhost:8080/"
        }
      },
      "source": [
        "import torch\n",
        "import torch.nn as nn\n",
        "import matplotlib.pyplot as plt\n",
        "from sklearn.decomposition import PCA\n",
        "\n",
        "print(torch.__version__)"
      ],
      "execution_count": 59,
      "outputs": [
        {
          "output_type": "stream",
          "name": "stdout",
          "text": [
            "2.5.1+cu121\n"
          ]
        }
      ]
    },
    {
      "cell_type": "markdown",
      "metadata": {
        "id": "6gomAf8vxq0R"
      },
      "source": [
        "To write our own node embedding learning methods, we'll heavily use the [`nn.Embedding`](https://pytorch.org/docs/stable/generated/torch.nn.Embedding.html) module in PyTorch. Let's see how to use `nn.Embedding`:"
      ]
    },
    {
      "cell_type": "code",
      "metadata": {
        "id": "aRiWGuLAx5yx",
        "outputId": "377cbc07-f3dc-4cc3-fe1b-b3b86470d60b",
        "colab": {
          "base_uri": "https://localhost:8080/"
        }
      },
      "source": [
        "# Initialize an embedding layer\n",
        "# Suppose we want to have embedding for 4 items (e.g., nodes)\n",
        "# Each item is represented with 8 dimensional vector\n",
        "\n",
        "emb_sample = nn.Embedding(num_embeddings=4, embedding_dim=8)\n",
        "print('Sample embedding layer: {}'.format(emb_sample))"
      ],
      "execution_count": 60,
      "outputs": [
        {
          "output_type": "stream",
          "name": "stdout",
          "text": [
            "Sample embedding layer: Embedding(4, 8)\n"
          ]
        }
      ]
    },
    {
      "cell_type": "markdown",
      "metadata": {
        "id": "bS9qQfeujEVh"
      },
      "source": [
        "We can select items from the embedding matrix, by using Tensor indices"
      ]
    },
    {
      "cell_type": "code",
      "metadata": {
        "id": "9AGIfP4QEDr8",
        "outputId": "ec7cfae6-f748-463b-86a0-ae7be4bdb69b",
        "colab": {
          "base_uri": "https://localhost:8080/"
        }
      },
      "source": [
        "# Select an embedding in emb_sample\n",
        "id = torch.LongTensor([1])\n",
        "print(emb_sample(id))\n",
        "\n",
        "# Select multiple embeddings\n",
        "ids = torch.LongTensor([1, 3])\n",
        "print(emb_sample(ids))\n",
        "\n",
        "# Get the shape of the embedding weight matrix\n",
        "shape = emb_sample.weight.data.shape\n",
        "print(shape)\n",
        "\n",
        "# Overwrite the weight to tensor with all ones\n",
        "emb_sample.weight.data = torch.ones(shape)\n",
        "\n",
        "# Let's check if the emb is indeed initilized\n",
        "ids = torch.LongTensor([0, 3])\n",
        "print(emb_sample(ids))"
      ],
      "execution_count": 63,
      "outputs": [
        {
          "output_type": "stream",
          "name": "stdout",
          "text": [
            "tensor([[-0.0665,  0.5339, -2.8434,  0.1923,  1.4076,  1.0532,  0.9673, -0.6406]],\n",
            "       grad_fn=<EmbeddingBackward0>)\n",
            "tensor([[-0.0665,  0.5339, -2.8434,  0.1923,  1.4076,  1.0532,  0.9673, -0.6406],\n",
            "        [ 0.8244,  1.3695,  0.8293,  0.2890, -0.7823, -0.2376, -0.9855, -0.1416]],\n",
            "       grad_fn=<EmbeddingBackward0>)\n",
            "torch.Size([4, 8])\n",
            "tensor([[1., 1., 1., 1., 1., 1., 1., 1.],\n",
            "        [1., 1., 1., 1., 1., 1., 1., 1.]], grad_fn=<EmbeddingBackward0>)\n"
          ]
        }
      ]
    },
    {
      "cell_type": "markdown",
      "metadata": {
        "id": "8MjBuDKaKIsM"
      },
      "source": [
        "Now, it's your time to create node embedding matrix for the graph we have!\n",
        "- We want to have **16 dimensional** vector for each node in the karate club network.\n",
        "- We want to initalize the matrix under **uniform distribution**, in the range of $[0, 1)$. We suggest you using [`torch.rand`](https://pytorch.org/docs/stable/generated/torch.rand.html)."
      ]
    },
    {
      "cell_type": "code",
      "metadata": {
        "id": "hMszSwRPKGn1",
        "outputId": "1c559a2e-ec78-41e1-cc31-13661d8a6eea",
        "colab": {
          "base_uri": "https://localhost:8080/"
        }
      },
      "source": [
        "# Please do not change / reset the random seed\n",
        "torch.manual_seed(1)\n",
        "\n",
        "def create_node_emb(num_node=34, embedding_dim=16):\n",
        "  # TODO: Implement this function that will create the node embedding matrix.\n",
        "  # A torch.nn.Embedding layer will be returned. You do not need to change\n",
        "  # the values of num_node and embedding_dim. The weight matrix of returned\n",
        "  # layer should be initialized under uniform distribution.\n",
        "\n",
        "  emb = None\n",
        "\n",
        "  ############# Your code here ############\n",
        "  emb = nn.Embedding(num_embeddings=num_node, embedding_dim=embedding_dim)\n",
        "  torch.nn.init.uniform_(emb.weight, a = -1,b=1)\n",
        "  #########################################\n",
        "\n",
        "  return emb\n",
        "\n",
        "emb = create_node_emb()\n",
        "ids = torch.LongTensor([0, 3])\n",
        "\n",
        "# Print the embedding layer\n",
        "print(\"Embedding: {}\".format(emb))\n",
        "\n",
        "# An example that gets the embeddings for node 0 and 3\n",
        "print(emb(ids))"
      ],
      "execution_count": 65,
      "outputs": [
        {
          "output_type": "stream",
          "name": "stdout",
          "text": [
            "Embedding: Embedding(34, 16)\n",
            "tensor([[-0.5773,  0.4670, -0.7134,  0.9294, -0.4133,  0.5903,  0.0341, -0.4398,\n",
            "          0.6678, -0.7630, -0.5291,  0.1199,  0.7933, -0.4285, -0.6089, -0.6384],\n",
            "        [ 0.4972,  0.3093, -0.2314,  0.9640,  0.2024, -0.2580, -0.0142,  0.9830,\n",
            "          0.6717, -0.0741,  0.9804,  0.4391, -0.5324, -0.9101,  0.5811,  0.9378]],\n",
            "       grad_fn=<EmbeddingBackward0>)\n"
          ]
        }
      ]
    },
    {
      "cell_type": "markdown",
      "metadata": {
        "id": "4QfoANibTzyh"
      },
      "source": [
        "## Visualize the initial node embeddings\n",
        "One good way to understand an embedding matrix, is to visualize it in a 2D space.\n",
        "Here, we have implemented an embedding visualization function for you.\n",
        "We first do PCA to reduce the dimensionality of embeddings to a 2D space.\n",
        "Then we visualize each point, colored by the community it belongs to."
      ]
    },
    {
      "cell_type": "code",
      "metadata": {
        "id": "_LCoIkarhfYD",
        "outputId": "2d74e0f0-aae8-4558-de87-8704a3c4cfb4",
        "colab": {
          "base_uri": "https://localhost:8080/",
          "height": 522
        }
      },
      "source": [
        "def visualize_emb(emb):\n",
        "  X = emb.weight.data.numpy()\n",
        "  pca = PCA(n_components=2)\n",
        "  components = pca.fit_transform(X)\n",
        "  plt.figure(figsize=(6, 6))\n",
        "  club1_x = []\n",
        "  club1_y = []\n",
        "  club2_x = []\n",
        "  club2_y = []\n",
        "  for node in G.nodes(data=True):\n",
        "    if node[1]['club'] == 'Mr. Hi':\n",
        "      club1_x.append(components[node[0]][0])\n",
        "      club1_y.append(components[node[0]][1])\n",
        "    else:\n",
        "      club2_x.append(components[node[0]][0])\n",
        "      club2_y.append(components[node[0]][1])\n",
        "  plt.scatter(club1_x, club1_y, color=\"red\", label=\"Mr. Hi\")\n",
        "  plt.scatter(club2_x, club2_y, color=\"blue\", label=\"Officer\")\n",
        "  plt.legend()\n",
        "  plt.show()\n",
        "\n",
        "# Visualize the initial random embeddding\n",
        "visualize_emb(emb)"
      ],
      "execution_count": 66,
      "outputs": [
        {
          "output_type": "display_data",
          "data": {
            "text/plain": [
              "<Figure size 600x600 with 1 Axes>"
            ],
            "image/png": "[encoded data removed]"
          },
          "metadata": {}
        }
      ]
    },
    {
      "cell_type": "markdown",
      "metadata": {
        "id": "bQIyuEz9ANb2"
      },
      "source": [
        "## Question 7: Training the embedding! What is the best performance you can get? (20 Points)\n",
        "\n",
        "We want to optimize our embeddings for the task of classifying edges as positive or negative. Given an edge and the embeddings for each node, the dot product of the embeddings, followed by a sigmoid, should give us the likelihood of that edge being either positive (output of sigmoid > 0.5) or negative (output of sigmoid < 0.5).\n",
        "\n",
        "Note that we're using the functions you wrote in the previous questions, _as well as the variables initialized in previous cells_. If you're running into issues, make sure your answers to questions 1-6 are correct."
      ]
    },
    {
      "cell_type": "code",
      "metadata": {
        "id": "RDeQTNNxqH0j",
        "outputId": "06e11e82-ab59-4e3f-8774-168660f23851",
        "colab": {
          "base_uri": "https://localhost:8080/"
        }
      },
      "source": [
        "from torch.optim import SGD\n",
        "import torch.nn as nn\n",
        "\n",
        "def accuracy(pred, label):\n",
        "  # TODO: Implement the accuracy function. This function takes the\n",
        "  # pred tensor (the resulting tensor after sigmoid) and the label\n",
        "  # tensor (torch.LongTensor). Predicted value greater than 0.5 will\n",
        "  # be classified as label 1. Else it will be classified as label 0.\n",
        "  # The returned accuracy should be rounded to 4 decimal places.\n",
        "  # For example, accuracy 0.82956 will be rounded to 0.8296.\n",
        "\n",
        "  accu = 0.0\n",
        "\n",
        "  ############# Your code here ############\n",
        "# Convert predictions to binary values (1 if > 0.5, else 0)\n",
        "  pred_binary = (pred > 0.5).long()\n",
        "\n",
        "  # Calculate the number of correct predictions\n",
        "  correct = (pred_binary == label).sum().item()\n",
        "\n",
        "  # Calculate accuracy\n",
        "  acc = correct / label.size(0)\n",
        "\n",
        "  # Round to 4 decimal places\n",
        "  acc = round(acc, 4)\n",
        "  #########################################\n",
        "\n",
        "  return accu\n",
        "\n",
        "def train(emb, loss_fn, train_label, train_edge):\n",
        "  # TODO: Train the embedding layer here. You can also change epochs and\n",
        "  # learning rate. In general, you need to implement:\n",
        "  # (1) Get the embeddings of the nodes in train_edge\n",
        "  # (2) Dot product the embeddings between each node pair\n",
        "  # (3) Feed the dot product result into sigmoid\n",
        "  # (4) Feed the sigmoid output into the loss_fn\n",
        "  # (5) Print both loss and accuracy of each epoch\n",
        "  # (6) Update the embeddings using the loss and optimizer\n",
        "  # (as a sanity check, the loss should decrease during training)\n",
        "\n",
        "  epochs = 500\n",
        "  learning_rate = 0.1\n",
        "\n",
        "  optimizer = SGD(emb.parameters(), lr=learning_rate, momentum=0.9)\n",
        "\n",
        "  for epoch in range(epochs):\n",
        "\n",
        "    ############# Your code here ############\n",
        "    optimizer.zero_grad()\n",
        "    node_u = train_edge[0,:]\n",
        "    node_v = train_edge[1,:]\n",
        "    emb_u = emb(node_u)\n",
        "    emb_v = emb(node_v)\n",
        "\n",
        "    dot_product = torch.sum(emb_u * emb_v,dim=1)\n",
        "    sigmoid_output = torch.sigmoid(dot_product)\n",
        "    loss = loss_fn(sigmoid_output,train_label)\n",
        "    loss.backward()\n",
        "    #########################################\n",
        "\n",
        "    predictions = sigmoid_output > 0.5\n",
        "    accuracy = (predictions == train_label).float().mean().item()\n",
        "    print(f\"Epoch {epoch + 1}/{epochs}, Loss: {loss.item():.4f}, Accuracy: {accuracy:.4f}\")\n",
        "\n",
        "    # (6) Update the embeddings using the loss and optimizer\n",
        "    optimizer.step()\n",
        "\n",
        "  return emb\n",
        "\n",
        "loss_fn = nn.BCELoss()\n",
        "\n",
        "print(pos_edge_index.shape)\n",
        "\n",
        "# Generate the positive and negative labels\n",
        "pos_label = torch.ones(pos_edge_index.shape[1], )\n",
        "neg_label = torch.zeros(neg_edge_index.shape[1], )\n",
        "\n",
        "# Concat positive and negative labels into one tensor\n",
        "train_label = torch.cat([pos_label, neg_label], dim=0)\n",
        "\n",
        "# Concat positive and negative edges into one tensor\n",
        "# Since the network is very small, we do not split the edges into val/test sets\n",
        "train_edge = torch.cat([pos_edge_index, neg_edge_index], dim=1)\n",
        "print(train_edge.shape)\n",
        "\n",
        "train(emb, loss_fn, train_label, train_edge)"
      ],
      "execution_count": 75,
      "outputs": [
        {
          "output_type": "stream",
          "name": "stdout",
          "text": [
            "torch.Size([2, 78])\n",
            "torch.Size([2, 156])\n",
            "Epoch 1/500, Loss: 0.7265, Accuracy: 0.5385\n",
            "Epoch 2/500, Loss: 0.7260, Accuracy: 0.6346\n",
            "Epoch 3/500, Loss: 0.7251, Accuracy: 0.6090\n",
            "Epoch 4/500, Loss: 0.7238, Accuracy: 0.6090\n",
            "Epoch 5/500, Loss: 0.7222, Accuracy: 0.5897\n",
            "Epoch 6/500, Loss: 0.7203, Accuracy: 0.6026\n",
            "Epoch 7/500, Loss: 0.7181, Accuracy: 0.6154\n",
            "Epoch 8/500, Loss: 0.7158, Accuracy: 0.6218\n",
            "Epoch 9/500, Loss: 0.7132, Accuracy: 0.6218\n",
            "Epoch 10/500, Loss: 0.7104, Accuracy: 0.6346\n",
            "Epoch 11/500, Loss: 0.7076, Accuracy: 0.6282\n",
            "Epoch 12/500, Loss: 0.7046, Accuracy: 0.6282\n",
            "Epoch 13/500, Loss: 0.7015, Accuracy: 0.6282\n",
            "Epoch 14/500, Loss: 0.6984, Accuracy: 0.6154\n",
            "Epoch 15/500, Loss: 0.6952, Accuracy: 0.6154\n",
            "Epoch 16/500, Loss: 0.6920, Accuracy: 0.6218\n",
            "Epoch 17/500, Loss: 0.6887, Accuracy: 0.6346\n",
            "Epoch 18/500, Loss: 0.6854, Accuracy: 0.6474\n",
            "Epoch 19/500, Loss: 0.6821, Accuracy: 0.6603\n",
            "Epoch 20/500, Loss: 0.6788, Accuracy: 0.6795\n",
            "Epoch 21/500, Loss: 0.6755, Accuracy: 0.6731\n",
            "Epoch 22/500, Loss: 0.6723, Accuracy: 0.6795\n",
            "Epoch 23/500, Loss: 0.6690, Accuracy: 0.6859\n",
            "Epoch 24/500, Loss: 0.6658, Accuracy: 0.6923\n",
            "Epoch 25/500, Loss: 0.6625, Accuracy: 0.6923\n",
            "Epoch 26/500, Loss: 0.6593, Accuracy: 0.6923\n",
            "Epoch 27/500, Loss: 0.6562, Accuracy: 0.7051\n",
            "Epoch 28/500, Loss: 0.6530, Accuracy: 0.7115\n",
            "Epoch 29/500, Loss: 0.6499, Accuracy: 0.7179\n",
            "Epoch 30/500, Loss: 0.6468, Accuracy: 0.7244\n",
            "Epoch 31/500, Loss: 0.6438, Accuracy: 0.7244\n",
            "Epoch 32/500, Loss: 0.6407, Accuracy: 0.7244\n",
            "Epoch 33/500, Loss: 0.6377, Accuracy: 0.7244\n",
            "Epoch 34/500, Loss: 0.6347, Accuracy: 0.7308\n",
            "Epoch 35/500, Loss: 0.6318, Accuracy: 0.7436\n",
            "Epoch 36/500, Loss: 0.6289, Accuracy: 0.7372\n",
            "Epoch 37/500, Loss: 0.6260, Accuracy: 0.7436\n",
            "Epoch 38/500, Loss: 0.6231, Accuracy: 0.7372\n",
            "Epoch 39/500, Loss: 0.6203, Accuracy: 0.7372\n",
            "Epoch 40/500, Loss: 0.6174, Accuracy: 0.7372\n",
            "Epoch 41/500, Loss: 0.6146, Accuracy: 0.7372\n",
            "Epoch 42/500, Loss: 0.6118, Accuracy: 0.7372\n",
            "Epoch 43/500, Loss: 0.6091, Accuracy: 0.7372\n",
            "Epoch 44/500, Loss: 0.6063, Accuracy: 0.7500\n",
            "Epoch 45/500, Loss: 0.6036, Accuracy: 0.7628\n",
            "Epoch 46/500, Loss: 0.6009, Accuracy: 0.7692\n",
            "Epoch 47/500, Loss: 0.5982, Accuracy: 0.7692\n",
            "Epoch 48/500, Loss: 0.5955, Accuracy: 0.7692\n",
            "Epoch 49/500, Loss: 0.5929, Accuracy: 0.7692\n",
            "Epoch 50/500, Loss: 0.5902, Accuracy: 0.7628\n",
            "Epoch 51/500, Loss: 0.5876, Accuracy: 0.7628\n",
            "Epoch 52/500, Loss: 0.5849, Accuracy: 0.7692\n",
            "Epoch 53/500, Loss: 0.5823, Accuracy: 0.7692\n",
            "Epoch 54/500, Loss: 0.5797, Accuracy: 0.7692\n",
            "Epoch 55/500, Loss: 0.5771, Accuracy: 0.7692\n",
            "Epoch 56/500, Loss: 0.5745, Accuracy: 0.7692\n",
            "Epoch 57/500, Loss: 0.5719, Accuracy: 0.7692\n",
            "Epoch 58/500, Loss: 0.5694, Accuracy: 0.7756\n",
            "Epoch 59/500, Loss: 0.5668, Accuracy: 0.7756\n",
            "Epoch 60/500, Loss: 0.5642, Accuracy: 0.7756\n",
            "Epoch 61/500, Loss: 0.5617, Accuracy: 0.7756\n",
            "Epoch 62/500, Loss: 0.5591, Accuracy: 0.7756\n",
            "Epoch 63/500, Loss: 0.5566, Accuracy: 0.7821\n",
            "Epoch 64/500, Loss: 0.5541, Accuracy: 0.7821\n",
            "Epoch 65/500, Loss: 0.5515, Accuracy: 0.7885\n",
            "Epoch 66/500, Loss: 0.5490, Accuracy: 0.7885\n",
            "Epoch 67/500, Loss: 0.5465, Accuracy: 0.7885\n",
            "Epoch 68/500, Loss: 0.5439, Accuracy: 0.7885\n",
            "Epoch 69/500, Loss: 0.5414, Accuracy: 0.7885\n",
            "Epoch 70/500, Loss: 0.5389, Accuracy: 0.7885\n",
            "Epoch 71/500, Loss: 0.5364, Accuracy: 0.7885\n",
            "Epoch 72/500, Loss: 0.5339, Accuracy: 0.7885\n",
            "Epoch 73/500, Loss: 0.5313, Accuracy: 0.7949\n",
            "Epoch 74/500, Loss: 0.5288, Accuracy: 0.7949\n",
            "Epoch 75/500, Loss: 0.5263, Accuracy: 0.7949\n",
            "Epoch 76/500, Loss: 0.5238, Accuracy: 0.7949\n",
            "Epoch 77/500, Loss: 0.5213, Accuracy: 0.8077\n",
            "Epoch 78/500, Loss: 0.5188, Accuracy: 0.8077\n",
            "Epoch 79/500, Loss: 0.5163, Accuracy: 0.8077\n",
            "Epoch 80/500, Loss: 0.5138, Accuracy: 0.8077\n",
            "Epoch 81/500, Loss: 0.5113, Accuracy: 0.8141\n",
            "Epoch 82/500, Loss: 0.5088, Accuracy: 0.8141\n",
            "Epoch 83/500, Loss: 0.5062, Accuracy: 0.8141\n",
            "Epoch 84/500, Loss: 0.5037, Accuracy: 0.8141\n",
            "Epoch 85/500, Loss: 0.5012, Accuracy: 0.8269\n",
            "Epoch 86/500, Loss: 0.4987, Accuracy: 0.8269\n",
            "Epoch 87/500, Loss: 0.4962, Accuracy: 0.8269\n",
            "Epoch 88/500, Loss: 0.4937, Accuracy: 0.8269\n",
            "Epoch 89/500, Loss: 0.4912, Accuracy: 0.8269\n",
            "Epoch 90/500, Loss: 0.4887, Accuracy: 0.8333\n",
            "Epoch 91/500, Loss: 0.4862, Accuracy: 0.8333\n",
            "Epoch 92/500, Loss: 0.4836, Accuracy: 0.8333\n",
            "Epoch 93/500, Loss: 0.4811, Accuracy: 0.8333\n",
            "Epoch 94/500, Loss: 0.4786, Accuracy: 0.8333\n",
            "Epoch 95/500, Loss: 0.4761, Accuracy: 0.8333\n",
            "Epoch 96/500, Loss: 0.4736, Accuracy: 0.8333\n",
            "Epoch 97/500, Loss: 0.4710, Accuracy: 0.8333\n",
            "Epoch 98/500, Loss: 0.4685, Accuracy: 0.8333\n",
            "Epoch 99/500, Loss: 0.4660, Accuracy: 0.8333\n",
            "Epoch 100/500, Loss: 0.4635, Accuracy: 0.8333\n",
            "Epoch 101/500, Loss: 0.4609, Accuracy: 0.8397\n",
            "Epoch 102/500, Loss: 0.4584, Accuracy: 0.8462\n",
            "Epoch 103/500, Loss: 0.4559, Accuracy: 0.8462\n",
            "Epoch 104/500, Loss: 0.4533, Accuracy: 0.8462\n",
            "Epoch 105/500, Loss: 0.4508, Accuracy: 0.8462\n",
            "Epoch 106/500, Loss: 0.4483, Accuracy: 0.8462\n",
            "Epoch 107/500, Loss: 0.4457, Accuracy: 0.8397\n",
            "Epoch 108/500, Loss: 0.4432, Accuracy: 0.8462\n",
            "Epoch 109/500, Loss: 0.4407, Accuracy: 0.8462\n",
            "Epoch 110/500, Loss: 0.4381, Accuracy: 0.8462\n",
            "Epoch 111/500, Loss: 0.4356, Accuracy: 0.8462\n",
            "Epoch 112/500, Loss: 0.4330, Accuracy: 0.8462\n",
            "Epoch 113/500, Loss: 0.4305, Accuracy: 0.8462\n",
            "Epoch 114/500, Loss: 0.4280, Accuracy: 0.8462\n",
            "Epoch 115/500, Loss: 0.4254, Accuracy: 0.8526\n",
            "Epoch 116/500, Loss: 0.4229, Accuracy: 0.8526\n",
            "Epoch 117/500, Loss: 0.4203, Accuracy: 0.8590\n",
            "Epoch 118/500, Loss: 0.4178, Accuracy: 0.8590\n",
            "Epoch 119/500, Loss: 0.4153, Accuracy: 0.8590\n",
            "Epoch 120/500, Loss: 0.4127, Accuracy: 0.8590\n",
            "Epoch 121/500, Loss: 0.4102, Accuracy: 0.8590\n",
            "Epoch 122/500, Loss: 0.4076, Accuracy: 0.8590\n",
            "Epoch 123/500, Loss: 0.4051, Accuracy: 0.8590\n",
            "Epoch 124/500, Loss: 0.4026, Accuracy: 0.8590\n",
            "Epoch 125/500, Loss: 0.4000, Accuracy: 0.8654\n",
            "Epoch 126/500, Loss: 0.3975, Accuracy: 0.8654\n",
            "Epoch 127/500, Loss: 0.3950, Accuracy: 0.8718\n",
            "Epoch 128/500, Loss: 0.3924, Accuracy: 0.8782\n",
            "Epoch 129/500, Loss: 0.3899, Accuracy: 0.8782\n",
            "Epoch 130/500, Loss: 0.3874, Accuracy: 0.8782\n",
            "Epoch 131/500, Loss: 0.3849, Accuracy: 0.8782\n",
            "Epoch 132/500, Loss: 0.3824, Accuracy: 0.8782\n",
            "Epoch 133/500, Loss: 0.3798, Accuracy: 0.8782\n",
            "Epoch 134/500, Loss: 0.3773, Accuracy: 0.8846\n",
            "Epoch 135/500, Loss: 0.3748, Accuracy: 0.8910\n",
            "Epoch 136/500, Loss: 0.3723, Accuracy: 0.8910\n",
            "Epoch 137/500, Loss: 0.3698, Accuracy: 0.8974\n",
            "Epoch 138/500, Loss: 0.3673, Accuracy: 0.8974\n",
            "Epoch 139/500, Loss: 0.3648, Accuracy: 0.8974\n",
            "Epoch 140/500, Loss: 0.3624, Accuracy: 0.8974\n",
            "Epoch 141/500, Loss: 0.3599, Accuracy: 0.9038\n",
            "Epoch 142/500, Loss: 0.3574, Accuracy: 0.9038\n",
            "Epoch 143/500, Loss: 0.3549, Accuracy: 0.9038\n",
            "Epoch 144/500, Loss: 0.3525, Accuracy: 0.9038\n",
            "Epoch 145/500, Loss: 0.3500, Accuracy: 0.9038\n",
            "Epoch 146/500, Loss: 0.3476, Accuracy: 0.9103\n",
            "Epoch 147/500, Loss: 0.3451, Accuracy: 0.9167\n",
            "Epoch 148/500, Loss: 0.3427, Accuracy: 0.9231\n",
            "Epoch 149/500, Loss: 0.3402, Accuracy: 0.9231\n",
            "Epoch 150/500, Loss: 0.3378, Accuracy: 0.9231\n",
            "Epoch 151/500, Loss: 0.3354, Accuracy: 0.9231\n",
            "Epoch 152/500, Loss: 0.3330, Accuracy: 0.9231\n",
            "Epoch 153/500, Loss: 0.3306, Accuracy: 0.9231\n",
            "Epoch 154/500, Loss: 0.3282, Accuracy: 0.9231\n",
            "Epoch 155/500, Loss: 0.3258, Accuracy: 0.9231\n",
            "Epoch 156/500, Loss: 0.3234, Accuracy: 0.9231\n",
            "Epoch 157/500, Loss: 0.3210, Accuracy: 0.9231\n",
            "Epoch 158/500, Loss: 0.3187, Accuracy: 0.9231\n",
            "Epoch 159/500, Loss: 0.3163, Accuracy: 0.9231\n",
            "Epoch 160/500, Loss: 0.3140, Accuracy: 0.9231\n",
            "Epoch 161/500, Loss: 0.3117, Accuracy: 0.9231\n",
            "Epoch 162/500, Loss: 0.3093, Accuracy: 0.9231\n",
            "Epoch 163/500, Loss: 0.3070, Accuracy: 0.9231\n",
            "Epoch 164/500, Loss: 0.3047, Accuracy: 0.9231\n",
            "Epoch 165/500, Loss: 0.3024, Accuracy: 0.9231\n",
            "Epoch 166/500, Loss: 0.3001, Accuracy: 0.9295\n",
            "Epoch 167/500, Loss: 0.2978, Accuracy: 0.9295\n",
            "Epoch 168/500, Loss: 0.2956, Accuracy: 0.9295\n",
            "Epoch 169/500, Loss: 0.2933, Accuracy: 0.9295\n",
            "Epoch 170/500, Loss: 0.2911, Accuracy: 0.9359\n",
            "Epoch 171/500, Loss: 0.2888, Accuracy: 0.9423\n",
            "Epoch 172/500, Loss: 0.2866, Accuracy: 0.9487\n",
            "Epoch 173/500, Loss: 0.2844, Accuracy: 0.9487\n",
            "Epoch 174/500, Loss: 0.2822, Accuracy: 0.9487\n",
            "Epoch 175/500, Loss: 0.2800, Accuracy: 0.9487\n",
            "Epoch 176/500, Loss: 0.2778, Accuracy: 0.9487\n",
            "Epoch 177/500, Loss: 0.2757, Accuracy: 0.9487\n",
            "Epoch 178/500, Loss: 0.2735, Accuracy: 0.9487\n",
            "Epoch 179/500, Loss: 0.2714, Accuracy: 0.9487\n",
            "Epoch 180/500, Loss: 0.2692, Accuracy: 0.9487\n",
            "Epoch 181/500, Loss: 0.2671, Accuracy: 0.9487\n",
            "Epoch 182/500, Loss: 0.2650, Accuracy: 0.9487\n",
            "Epoch 183/500, Loss: 0.2629, Accuracy: 0.9487\n",
            "Epoch 184/500, Loss: 0.2608, Accuracy: 0.9487\n",
            "Epoch 185/500, Loss: 0.2587, Accuracy: 0.9487\n",
            "Epoch 186/500, Loss: 0.2567, Accuracy: 0.9487\n",
            "Epoch 187/500, Loss: 0.2546, Accuracy: 0.9487\n",
            "Epoch 188/500, Loss: 0.2526, Accuracy: 0.9551\n",
            "Epoch 189/500, Loss: 0.2505, Accuracy: 0.9551\n",
            "Epoch 190/500, Loss: 0.2485, Accuracy: 0.9551\n",
            "Epoch 191/500, Loss: 0.2465, Accuracy: 0.9551\n",
            "Epoch 192/500, Loss: 0.2445, Accuracy: 0.9551\n",
            "Epoch 193/500, Loss: 0.2426, Accuracy: 0.9551\n",
            "Epoch 194/500, Loss: 0.2406, Accuracy: 0.9551\n",
            "Epoch 195/500, Loss: 0.2386, Accuracy: 0.9551\n",
            "Epoch 196/500, Loss: 0.2367, Accuracy: 0.9551\n",
            "Epoch 197/500, Loss: 0.2348, Accuracy: 0.9551\n",
            "Epoch 198/500, Loss: 0.2329, Accuracy: 0.9551\n",
            "Epoch 199/500, Loss: 0.2310, Accuracy: 0.9551\n",
            "Epoch 200/500, Loss: 0.2291, Accuracy: 0.9551\n",
            "Epoch 201/500, Loss: 0.2272, Accuracy: 0.9551\n",
            "Epoch 202/500, Loss: 0.2253, Accuracy: 0.9551\n",
            "Epoch 203/500, Loss: 0.2235, Accuracy: 0.9551\n",
            "Epoch 204/500, Loss: 0.2216, Accuracy: 0.9551\n",
            "Epoch 205/500, Loss: 0.2198, Accuracy: 0.9551\n",
            "Epoch 206/500, Loss: 0.2180, Accuracy: 0.9551\n",
            "Epoch 207/500, Loss: 0.2162, Accuracy: 0.9551\n",
            "Epoch 208/500, Loss: 0.2144, Accuracy: 0.9551\n",
            "Epoch 209/500, Loss: 0.2126, Accuracy: 0.9551\n",
            "Epoch 210/500, Loss: 0.2109, Accuracy: 0.9551\n",
            "Epoch 211/500, Loss: 0.2091, Accuracy: 0.9615\n",
            "Epoch 212/500, Loss: 0.2074, Accuracy: 0.9615\n",
            "Epoch 213/500, Loss: 0.2057, Accuracy: 0.9615\n",
            "Epoch 214/500, Loss: 0.2040, Accuracy: 0.9615\n",
            "Epoch 215/500, Loss: 0.2023, Accuracy: 0.9615\n",
            "Epoch 216/500, Loss: 0.2006, Accuracy: 0.9615\n",
            "Epoch 217/500, Loss: 0.1989, Accuracy: 0.9679\n",
            "Epoch 218/500, Loss: 0.1972, Accuracy: 0.9679\n",
            "Epoch 219/500, Loss: 0.1956, Accuracy: 0.9679\n",
            "Epoch 220/500, Loss: 0.1940, Accuracy: 0.9679\n",
            "Epoch 221/500, Loss: 0.1923, Accuracy: 0.9679\n",
            "Epoch 222/500, Loss: 0.1907, Accuracy: 0.9679\n",
            "Epoch 223/500, Loss: 0.1891, Accuracy: 0.9679\n",
            "Epoch 224/500, Loss: 0.1875, Accuracy: 0.9679\n",
            "Epoch 225/500, Loss: 0.1860, Accuracy: 0.9679\n",
            "Epoch 226/500, Loss: 0.1844, Accuracy: 0.9679\n",
            "Epoch 227/500, Loss: 0.1829, Accuracy: 0.9679\n",
            "Epoch 228/500, Loss: 0.1813, Accuracy: 0.9679\n",
            "Epoch 229/500, Loss: 0.1798, Accuracy: 0.9679\n",
            "Epoch 230/500, Loss: 0.1783, Accuracy: 0.9679\n",
            "Epoch 231/500, Loss: 0.1768, Accuracy: 0.9679\n",
            "Epoch 232/500, Loss: 0.1753, Accuracy: 0.9679\n",
            "Epoch 233/500, Loss: 0.1738, Accuracy: 0.9679\n",
            "Epoch 234/500, Loss: 0.1724, Accuracy: 0.9679\n",
            "Epoch 235/500, Loss: 0.1709, Accuracy: 0.9744\n",
            "Epoch 236/500, Loss: 0.1695, Accuracy: 0.9744\n",
            "Epoch 237/500, Loss: 0.1680, Accuracy: 0.9744\n",
            "Epoch 238/500, Loss: 0.1666, Accuracy: 0.9808\n",
            "Epoch 239/500, Loss: 0.1652, Accuracy: 0.9808\n",
            "Epoch 240/500, Loss: 0.1638, Accuracy: 0.9808\n",
            "Epoch 241/500, Loss: 0.1624, Accuracy: 0.9808\n",
            "Epoch 242/500, Loss: 0.1611, Accuracy: 0.9808\n",
            "Epoch 243/500, Loss: 0.1597, Accuracy: 0.9872\n",
            "Epoch 244/500, Loss: 0.1584, Accuracy: 0.9872\n",
            "Epoch 245/500, Loss: 0.1570, Accuracy: 0.9872\n",
            "Epoch 246/500, Loss: 0.1557, Accuracy: 0.9872\n",
            "Epoch 247/500, Loss: 0.1544, Accuracy: 0.9872\n",
            "Epoch 248/500, Loss: 0.1531, Accuracy: 0.9872\n",
            "Epoch 249/500, Loss: 0.1518, Accuracy: 0.9872\n",
            "Epoch 250/500, Loss: 0.1505, Accuracy: 0.9872\n",
            "Epoch 251/500, Loss: 0.1493, Accuracy: 0.9872\n",
            "Epoch 252/500, Loss: 0.1480, Accuracy: 0.9872\n",
            "Epoch 253/500, Loss: 0.1468, Accuracy: 0.9872\n",
            "Epoch 254/500, Loss: 0.1455, Accuracy: 0.9872\n",
            "Epoch 255/500, Loss: 0.1443, Accuracy: 0.9872\n",
            "Epoch 256/500, Loss: 0.1431, Accuracy: 0.9872\n",
            "Epoch 257/500, Loss: 0.1419, Accuracy: 0.9872\n",
            "Epoch 258/500, Loss: 0.1407, Accuracy: 0.9872\n",
            "Epoch 259/500, Loss: 0.1395, Accuracy: 0.9872\n",
            "Epoch 260/500, Loss: 0.1383, Accuracy: 0.9872\n",
            "Epoch 261/500, Loss: 0.1372, Accuracy: 0.9872\n",
            "Epoch 262/500, Loss: 0.1360, Accuracy: 0.9872\n",
            "Epoch 263/500, Loss: 0.1349, Accuracy: 0.9872\n",
            "Epoch 264/500, Loss: 0.1337, Accuracy: 0.9872\n",
            "Epoch 265/500, Loss: 0.1326, Accuracy: 0.9872\n",
            "Epoch 266/500, Loss: 0.1315, Accuracy: 0.9872\n",
            "Epoch 267/500, Loss: 0.1304, Accuracy: 0.9872\n",
            "Epoch 268/500, Loss: 0.1293, Accuracy: 0.9872\n",
            "Epoch 269/500, Loss: 0.1282, Accuracy: 0.9872\n",
            "Epoch 270/500, Loss: 0.1272, Accuracy: 0.9872\n",
            "Epoch 271/500, Loss: 0.1261, Accuracy: 0.9872\n",
            "Epoch 272/500, Loss: 0.1250, Accuracy: 0.9872\n",
            "Epoch 273/500, Loss: 0.1240, Accuracy: 0.9872\n",
            "Epoch 274/500, Loss: 0.1230, Accuracy: 0.9872\n",
            "Epoch 275/500, Loss: 0.1219, Accuracy: 0.9872\n",
            "Epoch 276/500, Loss: 0.1209, Accuracy: 0.9872\n",
            "Epoch 277/500, Loss: 0.1199, Accuracy: 0.9872\n",
            "Epoch 278/500, Loss: 0.1189, Accuracy: 0.9872\n",
            "Epoch 279/500, Loss: 0.1179, Accuracy: 0.9872\n",
            "Epoch 280/500, Loss: 0.1170, Accuracy: 0.9872\n",
            "Epoch 281/500, Loss: 0.1160, Accuracy: 0.9872\n",
            "Epoch 282/500, Loss: 0.1150, Accuracy: 0.9872\n",
            "Epoch 283/500, Loss: 0.1141, Accuracy: 0.9872\n",
            "Epoch 284/500, Loss: 0.1131, Accuracy: 0.9872\n",
            "Epoch 285/500, Loss: 0.1122, Accuracy: 0.9872\n",
            "Epoch 286/500, Loss: 0.1113, Accuracy: 0.9872\n",
            "Epoch 287/500, Loss: 0.1104, Accuracy: 0.9872\n",
            "Epoch 288/500, Loss: 0.1094, Accuracy: 0.9872\n",
            "Epoch 289/500, Loss: 0.1085, Accuracy: 0.9872\n",
            "Epoch 290/500, Loss: 0.1077, Accuracy: 0.9872\n",
            "Epoch 291/500, Loss: 0.1068, Accuracy: 0.9872\n",
            "Epoch 292/500, Loss: 0.1059, Accuracy: 0.9872\n",
            "Epoch 293/500, Loss: 0.1050, Accuracy: 0.9872\n",
            "Epoch 294/500, Loss: 0.1042, Accuracy: 0.9872\n",
            "Epoch 295/500, Loss: 0.1033, Accuracy: 0.9872\n",
            "Epoch 296/500, Loss: 0.1025, Accuracy: 0.9872\n",
            "Epoch 297/500, Loss: 0.1016, Accuracy: 0.9872\n",
            "Epoch 298/500, Loss: 0.1008, Accuracy: 0.9872\n",
            "Epoch 299/500, Loss: 0.1000, Accuracy: 0.9872\n",
            "Epoch 300/500, Loss: 0.0992, Accuracy: 0.9872\n",
            "Epoch 301/500, Loss: 0.0984, Accuracy: 0.9872\n",
            "Epoch 302/500, Loss: 0.0976, Accuracy: 0.9872\n",
            "Epoch 303/500, Loss: 0.0968, Accuracy: 0.9936\n",
            "Epoch 304/500, Loss: 0.0960, Accuracy: 0.9936\n",
            "Epoch 305/500, Loss: 0.0952, Accuracy: 0.9936\n",
            "Epoch 306/500, Loss: 0.0945, Accuracy: 0.9936\n",
            "Epoch 307/500, Loss: 0.0937, Accuracy: 0.9936\n",
            "Epoch 308/500, Loss: 0.0929, Accuracy: 0.9936\n",
            "Epoch 309/500, Loss: 0.0922, Accuracy: 0.9936\n",
            "Epoch 310/500, Loss: 0.0915, Accuracy: 0.9936\n",
            "Epoch 311/500, Loss: 0.0907, Accuracy: 0.9936\n",
            "Epoch 312/500, Loss: 0.0900, Accuracy: 0.9936\n",
            "Epoch 313/500, Loss: 0.0893, Accuracy: 0.9936\n",
            "Epoch 314/500, Loss: 0.0886, Accuracy: 0.9936\n",
            "Epoch 315/500, Loss: 0.0879, Accuracy: 0.9936\n",
            "Epoch 316/500, Loss: 0.0872, Accuracy: 0.9936\n",
            "Epoch 317/500, Loss: 0.0865, Accuracy: 0.9936\n",
            "Epoch 318/500, Loss: 0.0858, Accuracy: 0.9936\n",
            "Epoch 319/500, Loss: 0.0851, Accuracy: 0.9936\n",
            "Epoch 320/500, Loss: 0.0845, Accuracy: 0.9936\n",
            "Epoch 321/500, Loss: 0.0838, Accuracy: 0.9936\n",
            "Epoch 322/500, Loss: 0.0831, Accuracy: 0.9936\n",
            "Epoch 323/500, Loss: 0.0825, Accuracy: 0.9936\n",
            "Epoch 324/500, Loss: 0.0819, Accuracy: 0.9936\n",
            "Epoch 325/500, Loss: 0.0812, Accuracy: 0.9936\n",
            "Epoch 326/500, Loss: 0.0806, Accuracy: 0.9936\n",
            "Epoch 327/500, Loss: 0.0800, Accuracy: 0.9936\n",
            "Epoch 328/500, Loss: 0.0793, Accuracy: 0.9936\n",
            "Epoch 329/500, Loss: 0.0787, Accuracy: 1.0000\n",
            "Epoch 330/500, Loss: 0.0781, Accuracy: 1.0000\n",
            "Epoch 331/500, Loss: 0.0775, Accuracy: 1.0000\n",
            "Epoch 332/500, Loss: 0.0769, Accuracy: 1.0000\n",
            "Epoch 333/500, Loss: 0.0763, Accuracy: 1.0000\n",
            "Epoch 334/500, Loss: 0.0758, Accuracy: 1.0000\n",
            "Epoch 335/500, Loss: 0.0752, Accuracy: 1.0000\n",
            "Epoch 336/500, Loss: 0.0746, Accuracy: 1.0000\n",
            "Epoch 337/500, Loss: 0.0740, Accuracy: 1.0000\n",
            "Epoch 338/500, Loss: 0.0735, Accuracy: 1.0000\n",
            "Epoch 339/500, Loss: 0.0729, Accuracy: 1.0000\n",
            "Epoch 340/500, Loss: 0.0724, Accuracy: 1.0000\n",
            "Epoch 341/500, Loss: 0.0718, Accuracy: 1.0000\n",
            "Epoch 342/500, Loss: 0.0713, Accuracy: 1.0000\n",
            "Epoch 343/500, Loss: 0.0708, Accuracy: 1.0000\n",
            "Epoch 344/500, Loss: 0.0702, Accuracy: 1.0000\n",
            "Epoch 345/500, Loss: 0.0697, Accuracy: 1.0000\n",
            "Epoch 346/500, Loss: 0.0692, Accuracy: 1.0000\n",
            "Epoch 347/500, Loss: 0.0687, Accuracy: 1.0000\n",
            "Epoch 348/500, Loss: 0.0682, Accuracy: 1.0000\n",
            "Epoch 349/500, Loss: 0.0677, Accuracy: 1.0000\n",
            "Epoch 350/500, Loss: 0.0672, Accuracy: 1.0000\n",
            "Epoch 351/500, Loss: 0.0667, Accuracy: 1.0000\n",
            "Epoch 352/500, Loss: 0.0662, Accuracy: 1.0000\n",
            "Epoch 353/500, Loss: 0.0657, Accuracy: 1.0000\n",
            "Epoch 354/500, Loss: 0.0652, Accuracy: 1.0000\n",
            "Epoch 355/500, Loss: 0.0648, Accuracy: 1.0000\n",
            "Epoch 356/500, Loss: 0.0643, Accuracy: 1.0000\n",
            "Epoch 357/500, Loss: 0.0638, Accuracy: 1.0000\n",
            "Epoch 358/500, Loss: 0.0634, Accuracy: 1.0000\n",
            "Epoch 359/500, Loss: 0.0629, Accuracy: 1.0000\n",
            "Epoch 360/500, Loss: 0.0625, Accuracy: 1.0000\n",
            "Epoch 361/500, Loss: 0.0620, Accuracy: 1.0000\n",
            "Epoch 362/500, Loss: 0.0616, Accuracy: 1.0000\n",
            "Epoch 363/500, Loss: 0.0611, Accuracy: 1.0000\n",
            "Epoch 364/500, Loss: 0.0607, Accuracy: 1.0000\n",
            "Epoch 365/500, Loss: 0.0603, Accuracy: 1.0000\n",
            "Epoch 366/500, Loss: 0.0598, Accuracy: 1.0000\n",
            "Epoch 367/500, Loss: 0.0594, Accuracy: 1.0000\n",
            "Epoch 368/500, Loss: 0.0590, Accuracy: 1.0000\n",
            "Epoch 369/500, Loss: 0.0586, Accuracy: 1.0000\n",
            "Epoch 370/500, Loss: 0.0582, Accuracy: 1.0000\n",
            "Epoch 371/500, Loss: 0.0578, Accuracy: 1.0000\n",
            "Epoch 372/500, Loss: 0.0574, Accuracy: 1.0000\n",
            "Epoch 373/500, Loss: 0.0570, Accuracy: 1.0000\n",
            "Epoch 374/500, Loss: 0.0566, Accuracy: 1.0000\n",
            "Epoch 375/500, Loss: 0.0562, Accuracy: 1.0000\n",
            "Epoch 376/500, Loss: 0.0558, Accuracy: 1.0000\n",
            "Epoch 377/500, Loss: 0.0554, Accuracy: 1.0000\n",
            "Epoch 378/500, Loss: 0.0551, Accuracy: 1.0000\n",
            "Epoch 379/500, Loss: 0.0547, Accuracy: 1.0000\n",
            "Epoch 380/500, Loss: 0.0543, Accuracy: 1.0000\n",
            "Epoch 381/500, Loss: 0.0540, Accuracy: 1.0000\n",
            "Epoch 382/500, Loss: 0.0536, Accuracy: 1.0000\n",
            "Epoch 383/500, Loss: 0.0532, Accuracy: 1.0000\n",
            "Epoch 384/500, Loss: 0.0529, Accuracy: 1.0000\n",
            "Epoch 385/500, Loss: 0.0525, Accuracy: 1.0000\n",
            "Epoch 386/500, Loss: 0.0522, Accuracy: 1.0000\n",
            "Epoch 387/500, Loss: 0.0518, Accuracy: 1.0000\n",
            "Epoch 388/500, Loss: 0.0515, Accuracy: 1.0000\n",
            "Epoch 389/500, Loss: 0.0512, Accuracy: 1.0000\n",
            "Epoch 390/500, Loss: 0.0508, Accuracy: 1.0000\n",
            "Epoch 391/500, Loss: 0.0505, Accuracy: 1.0000\n",
            "Epoch 392/500, Loss: 0.0502, Accuracy: 1.0000\n",
            "Epoch 393/500, Loss: 0.0498, Accuracy: 1.0000\n",
            "Epoch 394/500, Loss: 0.0495, Accuracy: 1.0000\n",
            "Epoch 395/500, Loss: 0.0492, Accuracy: 1.0000\n",
            "Epoch 396/500, Loss: 0.0489, Accuracy: 1.0000\n",
            "Epoch 397/500, Loss: 0.0486, Accuracy: 1.0000\n",
            "Epoch 398/500, Loss: 0.0482, Accuracy: 1.0000\n",
            "Epoch 399/500, Loss: 0.0479, Accuracy: 1.0000\n",
            "Epoch 400/500, Loss: 0.0476, Accuracy: 1.0000\n",
            "Epoch 401/500, Loss: 0.0473, Accuracy: 1.0000\n",
            "Epoch 402/500, Loss: 0.0470, Accuracy: 1.0000\n",
            "Epoch 403/500, Loss: 0.0467, Accuracy: 1.0000\n",
            "Epoch 404/500, Loss: 0.0464, Accuracy: 1.0000\n",
            "Epoch 405/500, Loss: 0.0462, Accuracy: 1.0000\n",
            "Epoch 406/500, Loss: 0.0459, Accuracy: 1.0000\n",
            "Epoch 407/500, Loss: 0.0456, Accuracy: 1.0000\n",
            "Epoch 408/500, Loss: 0.0453, Accuracy: 1.0000\n",
            "Epoch 409/500, Loss: 0.0450, Accuracy: 1.0000\n",
            "Epoch 410/500, Loss: 0.0447, Accuracy: 1.0000\n",
            "Epoch 411/500, Loss: 0.0445, Accuracy: 1.0000\n",
            "Epoch 412/500, Loss: 0.0442, Accuracy: 1.0000\n",
            "Epoch 413/500, Loss: 0.0439, Accuracy: 1.0000\n",
            "Epoch 414/500, Loss: 0.0437, Accuracy: 1.0000\n",
            "Epoch 415/500, Loss: 0.0434, Accuracy: 1.0000\n",
            "Epoch 416/500, Loss: 0.0431, Accuracy: 1.0000\n",
            "Epoch 417/500, Loss: 0.0429, Accuracy: 1.0000\n",
            "Epoch 418/500, Loss: 0.0426, Accuracy: 1.0000\n",
            "Epoch 419/500, Loss: 0.0424, Accuracy: 1.0000\n",
            "Epoch 420/500, Loss: 0.0421, Accuracy: 1.0000\n",
            "Epoch 421/500, Loss: 0.0419, Accuracy: 1.0000\n",
            "Epoch 422/500, Loss: 0.0416, Accuracy: 1.0000\n",
            "Epoch 423/500, Loss: 0.0414, Accuracy: 1.0000\n",
            "Epoch 424/500, Loss: 0.0411, Accuracy: 1.0000\n",
            "Epoch 425/500, Loss: 0.0409, Accuracy: 1.0000\n",
            "Epoch 426/500, Loss: 0.0406, Accuracy: 1.0000\n",
            "Epoch 427/500, Loss: 0.0404, Accuracy: 1.0000\n",
            "Epoch 428/500, Loss: 0.0402, Accuracy: 1.0000\n",
            "Epoch 429/500, Loss: 0.0399, Accuracy: 1.0000\n",
            "Epoch 430/500, Loss: 0.0397, Accuracy: 1.0000\n",
            "Epoch 431/500, Loss: 0.0395, Accuracy: 1.0000\n",
            "Epoch 432/500, Loss: 0.0393, Accuracy: 1.0000\n",
            "Epoch 433/500, Loss: 0.0390, Accuracy: 1.0000\n",
            "Epoch 434/500, Loss: 0.0388, Accuracy: 1.0000\n",
            "Epoch 435/500, Loss: 0.0386, Accuracy: 1.0000\n",
            "Epoch 436/500, Loss: 0.0384, Accuracy: 1.0000\n",
            "Epoch 437/500, Loss: 0.0382, Accuracy: 1.0000\n",
            "Epoch 438/500, Loss: 0.0379, Accuracy: 1.0000\n",
            "Epoch 439/500, Loss: 0.0377, Accuracy: 1.0000\n",
            "Epoch 440/500, Loss: 0.0375, Accuracy: 1.0000\n",
            "Epoch 441/500, Loss: 0.0373, Accuracy: 1.0000\n",
            "Epoch 442/500, Loss: 0.0371, Accuracy: 1.0000\n",
            "Epoch 443/500, Loss: 0.0369, Accuracy: 1.0000\n",
            "Epoch 444/500, Loss: 0.0367, Accuracy: 1.0000\n",
            "Epoch 445/500, Loss: 0.0365, Accuracy: 1.0000\n",
            "Epoch 446/500, Loss: 0.0363, Accuracy: 1.0000\n",
            "Epoch 447/500, Loss: 0.0361, Accuracy: 1.0000\n",
            "Epoch 448/500, Loss: 0.0359, Accuracy: 1.0000\n",
            "Epoch 449/500, Loss: 0.0357, Accuracy: 1.0000\n",
            "Epoch 450/500, Loss: 0.0355, Accuracy: 1.0000\n",
            "Epoch 451/500, Loss: 0.0353, Accuracy: 1.0000\n",
            "Epoch 452/500, Loss: 0.0351, Accuracy: 1.0000\n",
            "Epoch 453/500, Loss: 0.0350, Accuracy: 1.0000\n",
            "Epoch 454/500, Loss: 0.0348, Accuracy: 1.0000\n",
            "Epoch 455/500, Loss: 0.0346, Accuracy: 1.0000\n",
            "Epoch 456/500, Loss: 0.0344, Accuracy: 1.0000\n",
            "Epoch 457/500, Loss: 0.0342, Accuracy: 1.0000\n",
            "Epoch 458/500, Loss: 0.0340, Accuracy: 1.0000\n",
            "Epoch 459/500, Loss: 0.0339, Accuracy: 1.0000\n",
            "Epoch 460/500, Loss: 0.0337, Accuracy: 1.0000\n",
            "Epoch 461/500, Loss: 0.0335, Accuracy: 1.0000\n",
            "Epoch 462/500, Loss: 0.0333, Accuracy: 1.0000\n",
            "Epoch 463/500, Loss: 0.0332, Accuracy: 1.0000\n",
            "Epoch 464/500, Loss: 0.0330, Accuracy: 1.0000\n",
            "Epoch 465/500, Loss: 0.0328, Accuracy: 1.0000\n",
            "Epoch 466/500, Loss: 0.0327, Accuracy: 1.0000\n",
            "Epoch 467/500, Loss: 0.0325, Accuracy: 1.0000\n",
            "Epoch 468/500, Loss: 0.0323, Accuracy: 1.0000\n",
            "Epoch 469/500, Loss: 0.0322, Accuracy: 1.0000\n",
            "Epoch 470/500, Loss: 0.0320, Accuracy: 1.0000\n",
            "Epoch 471/500, Loss: 0.0318, Accuracy: 1.0000\n",
            "Epoch 472/500, Loss: 0.0317, Accuracy: 1.0000\n",
            "Epoch 473/500, Loss: 0.0315, Accuracy: 1.0000\n",
            "Epoch 474/500, Loss: 0.0314, Accuracy: 1.0000\n",
            "Epoch 475/500, Loss: 0.0312, Accuracy: 1.0000\n",
            "Epoch 476/500, Loss: 0.0310, Accuracy: 1.0000\n",
            "Epoch 477/500, Loss: 0.0309, Accuracy: 1.0000\n",
            "Epoch 478/500, Loss: 0.0307, Accuracy: 1.0000\n",
            "Epoch 479/500, Loss: 0.0306, Accuracy: 1.0000\n",
            "Epoch 480/500, Loss: 0.0304, Accuracy: 1.0000\n",
            "Epoch 481/500, Loss: 0.0303, Accuracy: 1.0000\n",
            "Epoch 482/500, Loss: 0.0301, Accuracy: 1.0000\n",
            "Epoch 483/500, Loss: 0.0300, Accuracy: 1.0000\n",
            "Epoch 484/500, Loss: 0.0299, Accuracy: 1.0000\n",
            "Epoch 485/500, Loss: 0.0297, Accuracy: 1.0000\n",
            "Epoch 486/500, Loss: 0.0296, Accuracy: 1.0000\n",
            "Epoch 487/500, Loss: 0.0294, Accuracy: 1.0000\n",
            "Epoch 488/500, Loss: 0.0293, Accuracy: 1.0000\n",
            "Epoch 489/500, Loss: 0.0291, Accuracy: 1.0000\n",
            "Epoch 490/500, Loss: 0.0290, Accuracy: 1.0000\n",
            "Epoch 491/500, Loss: 0.0289, Accuracy: 1.0000\n",
            "Epoch 492/500, Loss: 0.0287, Accuracy: 1.0000\n",
            "Epoch 493/500, Loss: 0.0286, Accuracy: 1.0000\n",
            "Epoch 494/500, Loss: 0.0285, Accuracy: 1.0000\n",
            "Epoch 495/500, Loss: 0.0283, Accuracy: 1.0000\n",
            "Epoch 496/500, Loss: 0.0282, Accuracy: 1.0000\n",
            "Epoch 497/500, Loss: 0.0281, Accuracy: 1.0000\n",
            "Epoch 498/500, Loss: 0.0279, Accuracy: 1.0000\n",
            "Epoch 499/500, Loss: 0.0278, Accuracy: 1.0000\n",
            "Epoch 500/500, Loss: 0.0277, Accuracy: 1.0000\n"
          ]
        },
        {
          "output_type": "execute_result",
          "data": {
            "text/plain": [
              "Embedding(34, 16)"
            ]
          },
          "metadata": {},
          "execution_count": 75
        }
      ]
    },
    {
      "cell_type": "markdown",
      "metadata": {
        "id": "WX2PSXnTDiNi"
      },
      "source": [
        "## Visualize the final node embeddings\n",
        "Visualize your final embedding here!\n",
        "You can visually compare the figure with the previous embedding figure.\n",
        "After training, you should oberserve that the two classes are more evidently separated.\n",
        "This is a great sanitity check for your implementation as well."
      ]
    },
    {
      "cell_type": "code",
      "metadata": {
        "id": "MtNgl4VhYKow",
        "outputId": "555b8b41-d21a-4ecb-a959-16e0c79f29ac",
        "colab": {
          "base_uri": "https://localhost:8080/",
          "height": 522
        }
      },
      "source": [
        "# Visualize the final learned embedding\n",
        "visualize_emb(emb)"
      ],
      "execution_count": 76,
      "outputs": [
        {
          "output_type": "display_data",
          "data": {
            "text/plain": [
              "<Figure size 600x600 with 1 Axes>"
            ],
            "image/png": "[encoded data removed]"
          },
          "metadata": {}
        }
      ]
    },
    {
      "cell_type": "markdown",
      "metadata": {
        "id": "FTNyrAoSVeq9"
      },
      "source": [
        "# Submission"
      ]
    },
    {
      "cell_type": "markdown",
      "metadata": {
        "id": "E_E7J_GkVhY_"
      },
      "source": [
        "When you submit your assignment, you will have to download this file as an `.ipynb` file. Please name this file `CS224W_Colab_1.ipynb`. Make sure that the files are name correctly, otherwise the autograder will not be able to find your submission files."
      ]
    },
    {
      "cell_type": "code",
      "source": [],
      "metadata": {
        "id": "0W-nxh-wgZ-V"
      },
      "execution_count": null,
      "outputs": []
    }
  ]
}